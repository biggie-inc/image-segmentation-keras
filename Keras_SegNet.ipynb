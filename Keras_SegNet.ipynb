{
  "nbformat": 4,
  "nbformat_minor": 0,
  "metadata": {
    "colab": {
      "name": "Keras SegNet.ipynb",
      "provenance": [],
      "collapsed_sections": [],
      "toc_visible": true
    },
    "kernelspec": {
      "name": "python3",
      "display_name": "Python 3"
    },
    "accelerator": "GPU"
  },
  "cells": [
    {
      "cell_type": "markdown",
      "metadata": {
        "id": "kta82cEbZGST"
      },
      "source": [
        "# CLI interface of keras_segmentation"
      ]
    },
    {
      "cell_type": "markdown",
      "metadata": {
        "id": "rOd2iuD27F5d"
      },
      "source": [
        "### Dependencies"
      ]
    },
    {
      "cell_type": "code",
      "metadata": {
        "id": "AnfBtWZ9lDMr"
      },
      "source": [
        "import numpy as np\n",
        "from imageio import imread\n",
        "from PIL import Image\n",
        "from glob import glob\n",
        "import matplotlib.pyplot as plt\n",
        "import tensorflow\n",
        "from imageio import imread"
      ],
      "execution_count": 31,
      "outputs": []
    },
    {
      "cell_type": "markdown",
      "metadata": {
        "id": "6xSFQi_IZzNe"
      },
      "source": [
        "### Install the package"
      ]
    },
    {
      "cell_type": "code",
      "metadata": {
        "id": "OqaNvshJFc4x"
      },
      "source": [
        "%%capture\n",
        "! pip install git+https://github.com/biggie-inc/image-segmentation-keras.git"
      ],
      "execution_count": 2,
      "outputs": []
    },
    {
      "cell_type": "markdown",
      "metadata": {
        "id": "y2jcIph08lMh"
      },
      "source": [
        "## Prep the Data for Proper Config"
      ]
    },
    {
      "cell_type": "code",
      "metadata": {
        "id": "3xWp2xwn8kdF",
        "outputId": "1f1f72ff-cd5e-4bfd-be06-5bf09a752ba7",
        "colab": {
          "base_uri": "https://localhost:8080/",
          "height": 408
        }
      },
      "source": [
        "# connect to google drive\n",
        "from google.colab import drive\n",
        "drive.mount('/content/gdrive', force_remount=True)\n",
        "\n",
        "!ln -s /content/gdrive/My\\ Drive/ /mydrive\n",
        "!ls /mydrive"
      ],
      "execution_count": 4,
      "outputs": [
        {
          "output_type": "stream",
          "text": [
            "Mounted at /content/gdrive\n",
            " Biggie\n",
            "'Colab Notebooks'\n",
            "'Copy of Whiteboard Warriors #21 - Group 1 .gdoc'\n",
            " DATA\n",
            "'Data Science Notes.gdoc'\n",
            "'Deep Learning with PyTorch Chapter 1+2 notes.gdoc'\n",
            "'Deep Learning with PyTorch Chapter 3 notes.gdoc'\n",
            "'GitHub Contributions Quick Guide.gdoc'\n",
            "'Hadoop Tutorial.gdoc'\n",
            "'How to Efficiently Learn Your Next Thing.gdoc'\n",
            "'Job Search'\n",
            "'Mentor Meeting Agendas.gdoc'\n",
            " Modules\n",
            "'My Drive'\n",
            " Networking\n",
            "'Presenting from a Jupyter Notebook.gdoc'\n",
            "'R Notes.gdoc'\n",
            "'Setting up a virtual environment.gdoc'\n",
            "'Thinkful Data-201 Syllabus.gdoc'\n",
            "'Untitled spreadsheet (1).gsheet'\n",
            "'Untitled spreadsheet.gsheet'\n",
            " yolov3\n"
          ],
          "name": "stdout"
        }
      ]
    },
    {
      "cell_type": "code",
      "metadata": {
        "id": "pqggWMdqcODB"
      },
      "source": [
        "%%capture\n",
        "!cp /mydrive/Biggie/segnet_initial_train_100.zip ./\n",
        "\n",
        "!mkdir ./segnet_initial_train_100\n",
        "!unzip  ./segnet_initial_train_100.zip -d ./segnet_initial_train_100\n",
        "\n",
        "\n",
        "!cp /mydrive/Biggie/ASS/class_dict.csv ./class_dict.csv"
      ],
      "execution_count": 5,
      "outputs": []
    },
    {
      "cell_type": "code",
      "metadata": {
        "id": "nGSDrRDNcPPw"
      },
      "source": [
        "!mkdir ./dataset\n",
        "!mkdir ./dataset/annotations_prepped_train\n",
        "!mkdir ./dataset/annotations_prepped_test\n",
        "!mkdir ./dataset/images_prepped_train\n",
        "!mkdir ./dataset/images_prepped_test\n",
        "!mkdir ./predictions"
      ],
      "execution_count": 6,
      "outputs": []
    },
    {
      "cell_type": "markdown",
      "metadata": {
        "id": "H1XAXcHd7Ozp"
      },
      "source": [
        "#### Converting all images to RBG and saving as .jpgs to remove 4th dimension from .pngs\n"
      ]
    },
    {
      "cell_type": "code",
      "metadata": {
        "id": "hHENPX1Kh1Jj"
      },
      "source": [
        "\n",
        "# glob images\n",
        "image_set = sorted(glob('/content/segnet_initial_train_100/*1.png'))\n",
        "mask_set = sorted(glob('/content/segnet_initial_train_100/*gt.png'))\n"
      ],
      "execution_count": 7,
      "outputs": []
    },
    {
      "cell_type": "code",
      "metadata": {
        "id": "wq0vGN7wox9H"
      },
      "source": [
        "\n",
        "# Places 90 images in Train\n",
        "for i, j in zip(image_set[:-10], mask_set[:-10]):\n",
        "    image_filename = i.split('/')[-1].split('.')[0].replace(' ', '_') # getting image filename and replacing space with underscore\n",
        "\n",
        "    image = Image.open(i)\n",
        "    mask = Image.open(j)\n",
        "\n",
        "    image_rgb = image.convert('RGB')\n",
        "    #mask_rgb = mask.convert('RGB') converting to RGB increased mask dimensions to 3... duh\n",
        "\n",
        "    image_rgb.save(f'/content/dataset/images_prepped_train/{image_filename}.jpg')\n",
        "    mask.save(f'/content/dataset/annotations_prepped_train/{image_filename}.png') # this model currently requires annotations in PNG"
      ],
      "execution_count": 8,
      "outputs": []
    },
    {
      "cell_type": "code",
      "metadata": {
        "id": "tcaxydPTo3Kd"
      },
      "source": [
        "\n",
        "# Places 10 images in test\n",
        "for i, j in zip(image_set[-10:], mask_set[-10:]):\n",
        "    image_filename = i.split('/')[-1].split('.')[0].replace(' ', '_')\n",
        "\n",
        "    image = Image.open(i)\n",
        "    mask = Image.open(j)\n",
        "\n",
        "    image_rgb = image.convert('RGB')\n",
        "    #mask_rgb = mask.convert('RGB') converting to RGB increased channels to 3... duh\n",
        "\n",
        "    image_rgb.save(f'/content/dataset/images_prepped_test/{image_filename}.jpg')\n",
        "    mask.save(f'/content/dataset/annotations_prepped_test/{image_filename}.png') # this model currently requires annotations in PNG"
      ],
      "execution_count": 9,
      "outputs": []
    },
    {
      "cell_type": "markdown",
      "metadata": {
        "id": "hxkdRoo0Z51H"
      },
      "source": [
        "### Start training"
      ]
    },
    {
      "cell_type": "code",
      "metadata": {
        "id": "Vvfp5lZ58RUw",
        "outputId": "d07bf84f-01c5-4833-f342-37734bee4d01",
        "colab": {
          "base_uri": "https://localhost:8080/",
          "height": 34
        }
      },
      "source": [
        "%cd content/"
      ],
      "execution_count": 19,
      "outputs": [
        {
          "output_type": "stream",
          "text": [
            "/content\n"
          ],
          "name": "stdout"
        }
      ]
    },
    {
      "cell_type": "code",
      "metadata": {
        "id": "79ib1d3xFpAy",
        "outputId": "97d39b77-6de5-4a3b-aa01-2629000f8c1c",
        "colab": {
          "base_uri": "https://localhost:8080/",
          "height": 1000
        }
      },
      "source": [
        "#! python -m keras_segmentation train --checkpoints_path=\"/tmp/vgg_unet_1\" --train_images=\"dataset1/images_prepped_train/\" --train_annotations=\"dataset1/annotations_prepped_train/\" --val_images=\"dataset1/images_prepped_test/\" --val_annotations=\"dataset1/annotations_prepped_test/\" --n_classes=50 --input_height=320 --input_width=640 --model_name=\"vgg_unet\" --epochs=5\n",
        "\n",
        "! python -m keras_segmentation train --checkpoints_path=\"/tmp/resnet50_segnet\" --train_images=\"dataset/images_prepped_train/\" --train_annotations=\"dataset/annotations_prepped_train/\" --val_images=\"dataset/images_prepped_test/\" --val_annotations=\"dataset/annotations_prepped_test/\" --n_classes=2 --input_height=896 --input_width=1280 --model_name=\"resnet50_segnet\" --epochs=5\n",
        "\n",
        "\n",
        "#! python ./keras_segmentation/train.py --checkpoints_path=\"/tmp/vgg_unet_1\" --train_images=\"dataset/images_prepped_train/\" --train_annotations=\"dataset/annotations_prepped_train/\" --val_images=\"dataset/images_prepped_test/\" --val_annotations=\"dataset/annotations_prepped_test/\" --n_classes=1 --input_height=896 --input_width=1280 --model_name=\"vgg_unet\" --epochs=1"
      ],
      "execution_count": 20,
      "outputs": [
        {
          "output_type": "stream",
          "text": [
            "2020-10-19 21:29:37.218470: I tensorflow/stream_executor/platform/default/dso_loader.cc:48] Successfully opened dynamic library libcudart.so.10.1\n",
            "2020-10-19 21:29:38.717115: I tensorflow/stream_executor/platform/default/dso_loader.cc:48] Successfully opened dynamic library libcuda.so.1\n",
            "2020-10-19 21:29:38.731383: I tensorflow/stream_executor/cuda/cuda_gpu_executor.cc:982] successful NUMA node read from SysFS had negative value (-1), but there must be at least one NUMA node, so returning NUMA node zero\n",
            "2020-10-19 21:29:38.732045: I tensorflow/core/common_runtime/gpu/gpu_device.cc:1716] Found device 0 with properties: \n",
            "pciBusID: 0000:00:04.0 name: Tesla P100-PCIE-16GB computeCapability: 6.0\n",
            "coreClock: 1.3285GHz coreCount: 56 deviceMemorySize: 15.90GiB deviceMemoryBandwidth: 681.88GiB/s\n",
            "2020-10-19 21:29:38.732105: I tensorflow/stream_executor/platform/default/dso_loader.cc:48] Successfully opened dynamic library libcudart.so.10.1\n",
            "2020-10-19 21:29:38.734187: I tensorflow/stream_executor/platform/default/dso_loader.cc:48] Successfully opened dynamic library libcublas.so.10\n",
            "2020-10-19 21:29:38.735986: I tensorflow/stream_executor/platform/default/dso_loader.cc:48] Successfully opened dynamic library libcufft.so.10\n",
            "2020-10-19 21:29:38.736351: I tensorflow/stream_executor/platform/default/dso_loader.cc:48] Successfully opened dynamic library libcurand.so.10\n",
            "2020-10-19 21:29:38.738519: I tensorflow/stream_executor/platform/default/dso_loader.cc:48] Successfully opened dynamic library libcusolver.so.10\n",
            "2020-10-19 21:29:38.739540: I tensorflow/stream_executor/platform/default/dso_loader.cc:48] Successfully opened dynamic library libcusparse.so.10\n",
            "2020-10-19 21:29:38.743633: I tensorflow/stream_executor/platform/default/dso_loader.cc:48] Successfully opened dynamic library libcudnn.so.7\n",
            "2020-10-19 21:29:38.743825: I tensorflow/stream_executor/cuda/cuda_gpu_executor.cc:982] successful NUMA node read from SysFS had negative value (-1), but there must be at least one NUMA node, so returning NUMA node zero\n",
            "2020-10-19 21:29:38.744529: I tensorflow/stream_executor/cuda/cuda_gpu_executor.cc:982] successful NUMA node read from SysFS had negative value (-1), but there must be at least one NUMA node, so returning NUMA node zero\n",
            "2020-10-19 21:29:38.745119: I tensorflow/core/common_runtime/gpu/gpu_device.cc:1858] Adding visible gpu devices: 0\n",
            "2020-10-19 21:29:38.751085: I tensorflow/core/platform/profile_utils/cpu_utils.cc:104] CPU Frequency: 2300000000 Hz\n",
            "2020-10-19 21:29:38.751286: I tensorflow/compiler/xla/service/service.cc:168] XLA service 0x171cbc0 initialized for platform Host (this does not guarantee that XLA will be used). Devices:\n",
            "2020-10-19 21:29:38.751325: I tensorflow/compiler/xla/service/service.cc:176]   StreamExecutor device (0): Host, Default Version\n",
            "2020-10-19 21:29:38.848305: I tensorflow/stream_executor/cuda/cuda_gpu_executor.cc:982] successful NUMA node read from SysFS had negative value (-1), but there must be at least one NUMA node, so returning NUMA node zero\n",
            "2020-10-19 21:29:38.849190: I tensorflow/compiler/xla/service/service.cc:168] XLA service 0x171cd80 initialized for platform CUDA (this does not guarantee that XLA will be used). Devices:\n",
            "2020-10-19 21:29:38.849226: I tensorflow/compiler/xla/service/service.cc:176]   StreamExecutor device (0): Tesla P100-PCIE-16GB, Compute Capability 6.0\n",
            "2020-10-19 21:29:38.849480: I tensorflow/stream_executor/cuda/cuda_gpu_executor.cc:982] successful NUMA node read from SysFS had negative value (-1), but there must be at least one NUMA node, so returning NUMA node zero\n",
            "2020-10-19 21:29:38.850103: I tensorflow/core/common_runtime/gpu/gpu_device.cc:1716] Found device 0 with properties: \n",
            "pciBusID: 0000:00:04.0 name: Tesla P100-PCIE-16GB computeCapability: 6.0\n",
            "coreClock: 1.3285GHz coreCount: 56 deviceMemorySize: 15.90GiB deviceMemoryBandwidth: 681.88GiB/s\n",
            "2020-10-19 21:29:38.850185: I tensorflow/stream_executor/platform/default/dso_loader.cc:48] Successfully opened dynamic library libcudart.so.10.1\n",
            "2020-10-19 21:29:38.850227: I tensorflow/stream_executor/platform/default/dso_loader.cc:48] Successfully opened dynamic library libcublas.so.10\n",
            "2020-10-19 21:29:38.850259: I tensorflow/stream_executor/platform/default/dso_loader.cc:48] Successfully opened dynamic library libcufft.so.10\n",
            "2020-10-19 21:29:38.850286: I tensorflow/stream_executor/platform/default/dso_loader.cc:48] Successfully opened dynamic library libcurand.so.10\n",
            "2020-10-19 21:29:38.850313: I tensorflow/stream_executor/platform/default/dso_loader.cc:48] Successfully opened dynamic library libcusolver.so.10\n",
            "2020-10-19 21:29:38.850342: I tensorflow/stream_executor/platform/default/dso_loader.cc:48] Successfully opened dynamic library libcusparse.so.10\n",
            "2020-10-19 21:29:38.850372: I tensorflow/stream_executor/platform/default/dso_loader.cc:48] Successfully opened dynamic library libcudnn.so.7\n",
            "2020-10-19 21:29:38.850505: I tensorflow/stream_executor/cuda/cuda_gpu_executor.cc:982] successful NUMA node read from SysFS had negative value (-1), but there must be at least one NUMA node, so returning NUMA node zero\n",
            "2020-10-19 21:29:38.851206: I tensorflow/stream_executor/cuda/cuda_gpu_executor.cc:982] successful NUMA node read from SysFS had negative value (-1), but there must be at least one NUMA node, so returning NUMA node zero\n",
            "2020-10-19 21:29:38.851761: I tensorflow/core/common_runtime/gpu/gpu_device.cc:1858] Adding visible gpu devices: 0\n",
            "2020-10-19 21:29:38.851858: I tensorflow/stream_executor/platform/default/dso_loader.cc:48] Successfully opened dynamic library libcudart.so.10.1\n",
            "2020-10-19 21:29:39.521644: I tensorflow/core/common_runtime/gpu/gpu_device.cc:1257] Device interconnect StreamExecutor with strength 1 edge matrix:\n",
            "2020-10-19 21:29:39.521711: I tensorflow/core/common_runtime/gpu/gpu_device.cc:1263]      0 \n",
            "2020-10-19 21:29:39.521725: I tensorflow/core/common_runtime/gpu/gpu_device.cc:1276] 0:   N \n",
            "2020-10-19 21:29:39.522016: I tensorflow/stream_executor/cuda/cuda_gpu_executor.cc:982] successful NUMA node read from SysFS had negative value (-1), but there must be at least one NUMA node, so returning NUMA node zero\n",
            "2020-10-19 21:29:39.522763: I tensorflow/stream_executor/cuda/cuda_gpu_executor.cc:982] successful NUMA node read from SysFS had negative value (-1), but there must be at least one NUMA node, so returning NUMA node zero\n",
            "2020-10-19 21:29:39.523371: W tensorflow/core/common_runtime/gpu/gpu_bfc_allocator.cc:39] Overriding allow_growth setting because the TF_FORCE_GPU_ALLOW_GROWTH environment variable is set. Original config value was 0.\n",
            "2020-10-19 21:29:39.523422: I tensorflow/core/common_runtime/gpu/gpu_device.cc:1402] Created TensorFlow device (/job:localhost/replica:0/task:0/device:GPU:0 with 14968 MB memory) -> physical GPU (device: 0, name: Tesla P100-PCIE-16GB, pci bus id: 0000:00:04.0, compute capability: 6.0)\n",
            "Verifying training dataset\n",
            "100% 90/90 [00:01<00:00, 50.58it/s]\n",
            "Dataset verified! \n",
            "WARNING:tensorflow:From /usr/local/lib/python3.6/dist-packages/keras_segmentation/train.py:158: Model.fit_generator (from tensorflow.python.keras.engine.training) is deprecated and will be removed in a future version.\n",
            "Instructions for updating:\n",
            "Please use Model.fit, which supports generators.\n",
            "Epoch 1/5\n",
            "2020-10-19 21:29:48.434603: I tensorflow/stream_executor/platform/default/dso_loader.cc:48] Successfully opened dynamic library libcudnn.so.7\n",
            "2020-10-19 21:29:52.849920: I tensorflow/stream_executor/platform/default/dso_loader.cc:48] Successfully opened dynamic library libcublas.so.10\n",
            "512/512 [==============================] - ETA: 0s - loss: 0.0598 - accuracy: 0.9823saved  /tmp/resnet50_segnet.0\n",
            "512/512 [==============================] - 182s 356ms/step - loss: 0.0598 - accuracy: 0.9823\n",
            "Epoch 2/5\n",
            "512/512 [==============================] - ETA: 0s - loss: 0.0084 - accuracy: 0.9967saved  /tmp/resnet50_segnet.1\n",
            "512/512 [==============================] - 182s 355ms/step - loss: 0.0084 - accuracy: 0.9967\n",
            "Epoch 3/5\n",
            "512/512 [==============================] - ETA: 0s - loss: 0.0048 - accuracy: 0.9980saved  /tmp/resnet50_segnet.2\n",
            "512/512 [==============================] - 182s 355ms/step - loss: 0.0048 - accuracy: 0.9980\n",
            "Epoch 4/5\n",
            "512/512 [==============================] - ETA: 0s - loss: 0.0041 - accuracy: 0.9982saved  /tmp/resnet50_segnet.3\n",
            "512/512 [==============================] - 182s 355ms/step - loss: 0.0041 - accuracy: 0.9982\n",
            "Epoch 5/5\n",
            "512/512 [==============================] - ETA: 0s - loss: 0.0034 - accuracy: 0.9985saved  /tmp/resnet50_segnet.4\n",
            "512/512 [==============================] - 182s 355ms/step - loss: 0.0034 - accuracy: 0.9985\n"
          ],
          "name": "stdout"
        }
      ]
    },
    {
      "cell_type": "markdown",
      "metadata": {
        "id": "6Wm3AwRTZp9t"
      },
      "source": [
        "### Predict output on test samples"
      ]
    },
    {
      "cell_type": "code",
      "metadata": {
        "id": "Jvn8yp6iFtQa"
      },
      "source": [
        "# ! python -m keras_segmentation predict --checkpoints_path=\"/tmp/vgg_unet_1\" --input_path=\"dataset1/images_prepped_test/0016E5_07959.png\" --output_path=\"./out24.png\"\n",
        "! python -m keras_segmentation predict --checkpoints_path=\"/tmp/resnet50_segnet\" --input_path=\"/content/dataset/images_prepped_test/14092_st1280_119_1.jpg\" --output_path=\"/content/predictions/first_test.png\""
      ],
      "execution_count": null,
      "outputs": []
    },
    {
      "cell_type": "markdown",
      "metadata": {
        "id": "CutoMx-iZjBA"
      },
      "source": [
        "### Now lets see the predicted **output**"
      ]
    },
    {
      "cell_type": "code",
      "metadata": {
        "id": "9Xyush9v3m-r",
        "outputId": "be589b4b-a472-411f-defc-96a48306375b",
        "colab": {
          "base_uri": "https://localhost:8080/",
          "height": 221
        }
      },
      "source": [
        "image = imread('/content/dataset/images_prepped_test/14092_st1280_119_1.jpg')\n",
        "pred = imread('first_test.png')\n",
        "\n",
        "fig, (ax1, ax2) = plt.subplots(1,2, figsize=(10,5))\n",
        "\n",
        "ax1.imshow(image)\n",
        "ax1.axis('off')\n",
        "ax2.imshow(pred)\n",
        "ax2.axis('off');"
      ],
      "execution_count": 34,
      "outputs": [
        {
          "output_type": "display_data",
          "data": {
            "image/png": "[encoded data removed]",
            "text/plain": [
              "<Figure size 720x360 with 2 Axes>"
            ]
          },
          "metadata": {
            "tags": [],
            "needs_background": "light"
          }
        }
      ]
    },
    {
      "cell_type": "code",
      "metadata": {
        "id": "zyH83Mnn_mkc"
      },
      "source": [
        "!mkdir /mydrive/Biggie/Keras_SegNet/\n"
      ],
      "execution_count": 36,
      "outputs": []
    },
    {
      "cell_type": "code",
      "metadata": {
        "id": "_LIfVd_eBThn"
      },
      "source": [
        ""
      ],
      "execution_count": null,
      "outputs": []
    }
  ]
}